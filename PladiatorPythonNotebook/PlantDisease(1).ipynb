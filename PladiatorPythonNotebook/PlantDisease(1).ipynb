{
  "nbformat": 4,
  "nbformat_minor": 0,
  "metadata": {
    "colab": {
      "name": "PlantDisease.ipynb",
      "provenance": [],
      "collapsed_sections": []
    },
    "kernelspec": {
      "name": "python3",
      "display_name": "Python 3"
    },
    "accelerator": "GPU"
  },
  "cells": [
    {
      "cell_type": "code",
      "metadata": {
        "id": "I0u_MLzlTiYW",
        "colab_type": "code",
        "colab": {}
      },
      "source": [
        "from google.colab import drive\n",
        "drive.mount('/content/drive')"
      ],
      "execution_count": 0,
      "outputs": []
    },
    {
      "cell_type": "code",
      "metadata": {
        "id": "3v7GXH9_UxrE",
        "colab_type": "code",
        "outputId": "266d89b6-fa51-4d74-d55d-47f6a3926088",
        "colab": {
          "base_uri": "https://localhost:8080/",
          "height": 35
        }
      },
      "source": [
        "%cd drive/My\\ Drive/Project/PlantDiseaseDetector"
      ],
      "execution_count": 21,
      "outputs": [
        {
          "output_type": "stream",
          "text": [
            "/content/drive/My Drive/Project/PlantDiseaseDetector\n"
          ],
          "name": "stdout"
        }
      ]
    },
    {
      "cell_type": "code",
      "metadata": {
        "id": "buSehgmHvAqH",
        "colab_type": "code",
        "colab": {
          "base_uri": "https://localhost:8080/",
          "height": 35
        },
        "outputId": "9cb65ed1-2ed0-4ff4-e099-f17aa5653078"
      },
      "source": [
        "# !mkdir radam\n",
        "# %cd radam"
      ],
      "execution_count": 22,
      "outputs": [
        {
          "output_type": "stream",
          "text": [
            "/content/drive/My Drive/Project/PlantDiseaseDetector/radam\n"
          ],
          "name": "stdout"
        }
      ]
    },
    {
      "cell_type": "code",
      "metadata": {
        "id": "JXdGezXJSYqz",
        "colab_type": "code",
        "outputId": "fed4f0ac-9d58-474b-f37d-57a1ca6615ca",
        "colab": {
          "base_uri": "https://localhost:8080/",
          "height": 35
        }
      },
      "source": [
        "try:\n",
        "  # The %tensorflow_version magic only works in colab.\n",
        "  %tensorflow_version 2.x\n",
        "except Exception:\n",
        "  pass"
      ],
      "execution_count": 2,
      "outputs": [
        {
          "output_type": "stream",
          "text": [
            "TensorFlow 2.x selected.\n"
          ],
          "name": "stdout"
        }
      ]
    },
    {
      "cell_type": "code",
      "metadata": {
        "id": "VuiqIkNAS6RC",
        "colab_type": "code",
        "colab": {}
      },
      "source": [
        "from __future__ import absolute_import, division, print_function, unicode_literals\n",
        "import tensorflow as tf\n",
        "import tensorflow_hub as hub\n",
        "import os\n",
        "\n",
        "from tensorflow.keras.layers import Dense, Flatten, Conv2D\n",
        "from tensorflow.keras import Model\n",
        "from tensorflow.keras.preprocessing.image import ImageDataGenerator\n",
        "from tensorflow.keras.optimizers import Adam\n",
        "from tensorflow.keras import layers"
      ],
      "execution_count": 0,
      "outputs": []
    },
    {
      "cell_type": "code",
      "metadata": {
        "id": "mz-glE38S919",
        "colab_type": "code",
        "colab": {}
      },
      "source": [
        "#Load data\n",
        "zip_file=tf.keras.utils.get_file(origin='https://storage.googleapis.com/plantdata/PlantVillage.zip', \n",
        " fname='PlantVillage.zip', extract=True)"
      ],
      "execution_count": 0,
      "outputs": []
    },
    {
      "cell_type": "code",
      "metadata": {
        "id": "OmhuY175TAUF",
        "colab_type": "code",
        "colab": {}
      },
      "source": [
        "#Create the training and validation directories\n",
        "data_dir = os.path.join(os.path.dirname(zip_file), 'PlantVillage')\n",
        "train_dir = os.path.join(data_dir, 'train')\n",
        "validation_dir = os.path.join(data_dir, 'validation')"
      ],
      "execution_count": 0,
      "outputs": []
    },
    {
      "cell_type": "code",
      "metadata": {
        "id": "r_5QBFePXnzX",
        "colab_type": "code",
        "colab": {
          "base_uri": "https://localhost:8080/",
          "height": 1000
        },
        "outputId": "d8f10138-6f84-435c-ea5f-0d1a32ac9970"
      },
      "source": [
        "!wget https://github.com/obeshor/Plant-Diseases-Detector/archive/master.zip\n",
        "!unzip master.zip;\n",
        "import json\n",
        "with open('Plant-Diseases-Detector-master/categories.json', 'r') as f:\n",
        "    cat_to_name = json.load(f)\n",
        "    classes = list(cat_to_name.values())"
      ],
      "execution_count": 6,
      "outputs": [
        {
          "output_type": "stream",
          "text": [
            "--2020-01-17 00:17:07--  https://github.com/obeshor/Plant-Diseases-Detector/archive/master.zip\n",
            "Resolving github.com (github.com)... 13.229.188.59\n",
            "Connecting to github.com (github.com)|13.229.188.59|:443... connected.\n",
            "HTTP request sent, awaiting response... 302 Found\n",
            "Location: https://codeload.github.com/obeshor/Plant-Diseases-Detector/zip/master [following]\n",
            "--2020-01-17 00:17:08--  https://codeload.github.com/obeshor/Plant-Diseases-Detector/zip/master\n",
            "Resolving codeload.github.com (codeload.github.com)... 13.229.189.0\n",
            "Connecting to codeload.github.com (codeload.github.com)|13.229.189.0|:443... connected.\n",
            "HTTP request sent, awaiting response... 200 OK\n",
            "Length: unspecified [application/zip]\n",
            "Saving to: ‘master.zip’\n",
            "\n",
            "master.zip              [ <=>                ]   2.25M  12.1MB/s    in 0.2s    \n",
            "\n",
            "2020-01-17 00:17:08 (12.1 MB/s) - ‘master.zip’ saved [2358172]\n",
            "\n",
            "Archive:  master.zip\n",
            "59c418921242879a6aa5378175076bf7f39a84fe\n",
            "   creating: Plant-Diseases-Detector-master/\n",
            "   creating: Plant-Diseases-Detector-master/GreenDoctor/\n",
            "  inflating: Plant-Diseases-Detector-master/GreenDoctor/.gitignore  \n",
            "   creating: Plant-Diseases-Detector-master/GreenDoctor/.idea/\n",
            "   creating: Plant-Diseases-Detector-master/GreenDoctor/.idea/codeStyles/\n",
            "  inflating: Plant-Diseases-Detector-master/GreenDoctor/.idea/codeStyles/Project.xml  \n",
            "  inflating: Plant-Diseases-Detector-master/GreenDoctor/.idea/codeStyles/codeStyleConfig.xml  \n",
            "  inflating: Plant-Diseases-Detector-master/GreenDoctor/.idea/encodings.xml  \n",
            "  inflating: Plant-Diseases-Detector-master/GreenDoctor/.idea/gradle.xml  \n",
            "  inflating: Plant-Diseases-Detector-master/GreenDoctor/.idea/misc.xml  \n",
            "  inflating: Plant-Diseases-Detector-master/GreenDoctor/.idea/runConfigurations.xml  \n",
            "   creating: Plant-Diseases-Detector-master/GreenDoctor/app/\n",
            " extracting: Plant-Diseases-Detector-master/GreenDoctor/app/.gitignore  \n",
            "  inflating: Plant-Diseases-Detector-master/GreenDoctor/app/build.gradle  \n",
            "  inflating: Plant-Diseases-Detector-master/GreenDoctor/app/proguard-rules.pro  \n",
            "   creating: Plant-Diseases-Detector-master/GreenDoctor/app/src/\n",
            "   creating: Plant-Diseases-Detector-master/GreenDoctor/app/src/androidTest/\n",
            "   creating: Plant-Diseases-Detector-master/GreenDoctor/app/src/androidTest/java/\n",
            "   creating: Plant-Diseases-Detector-master/GreenDoctor/app/src/androidTest/java/isomora/\n",
            "   creating: Plant-Diseases-Detector-master/GreenDoctor/app/src/androidTest/java/isomora/com/\n",
            "   creating: Plant-Diseases-Detector-master/GreenDoctor/app/src/androidTest/java/isomora/com/greendoctor/\n",
            "  inflating: Plant-Diseases-Detector-master/GreenDoctor/app/src/androidTest/java/isomora/com/greendoctor/ExampleInstrumentedTest.kt  \n",
            "   creating: Plant-Diseases-Detector-master/GreenDoctor/app/src/main/\n",
            "  inflating: Plant-Diseases-Detector-master/GreenDoctor/app/src/main/AndroidManifest.xml  \n",
            "   creating: Plant-Diseases-Detector-master/GreenDoctor/app/src/main/assets/\n",
            "  inflating: Plant-Diseases-Detector-master/GreenDoctor/app/src/main/assets/plant_labels.txt  \n",
            "  inflating: Plant-Diseases-Detector-master/GreenDoctor/app/src/main/assets/soybean.JPG  \n",
            "  inflating: Plant-Diseases-Detector-master/GreenDoctor/app/src/main/ic_launcher-web.png  \n",
            "   creating: Plant-Diseases-Detector-master/GreenDoctor/app/src/main/java/\n",
            "   creating: Plant-Diseases-Detector-master/GreenDoctor/app/src/main/java/isomora/\n",
            "   creating: Plant-Diseases-Detector-master/GreenDoctor/app/src/main/java/isomora/com/\n",
            "   creating: Plant-Diseases-Detector-master/GreenDoctor/app/src/main/java/isomora/com/greendoctor/\n",
            "  inflating: Plant-Diseases-Detector-master/GreenDoctor/app/src/main/java/isomora/com/greendoctor/Classifier.kt  \n",
            "  inflating: Plant-Diseases-Detector-master/GreenDoctor/app/src/main/java/isomora/com/greendoctor/MainActivity.kt  \n",
            "   creating: Plant-Diseases-Detector-master/GreenDoctor/app/src/main/res/\n",
            "   creating: Plant-Diseases-Detector-master/GreenDoctor/app/src/main/res/drawable-v24/\n",
            "  inflating: Plant-Diseases-Detector-master/GreenDoctor/app/src/main/res/drawable-v24/ic_launcher_foreground.xml  \n",
            "   creating: Plant-Diseases-Detector-master/GreenDoctor/app/src/main/res/drawable/\n",
            "  inflating: Plant-Diseases-Detector-master/GreenDoctor/app/src/main/res/drawable/ic_launcher_background.xml  \n",
            "   creating: Plant-Diseases-Detector-master/GreenDoctor/app/src/main/res/layout/\n",
            "  inflating: Plant-Diseases-Detector-master/GreenDoctor/app/src/main/res/layout/activity_main.xml  \n",
            "   creating: Plant-Diseases-Detector-master/GreenDoctor/app/src/main/res/mipmap-anydpi-v26/\n",
            "  inflating: Plant-Diseases-Detector-master/GreenDoctor/app/src/main/res/mipmap-anydpi-v26/ic_launcher.xml  \n",
            "  inflating: Plant-Diseases-Detector-master/GreenDoctor/app/src/main/res/mipmap-anydpi-v26/ic_launcher_round.xml  \n",
            "   creating: Plant-Diseases-Detector-master/GreenDoctor/app/src/main/res/mipmap-hdpi/\n",
            " extracting: Plant-Diseases-Detector-master/GreenDoctor/app/src/main/res/mipmap-hdpi/ic_launcher.png  \n",
            "  inflating: Plant-Diseases-Detector-master/GreenDoctor/app/src/main/res/mipmap-hdpi/ic_launcher_foreground.png  \n",
            " extracting: Plant-Diseases-Detector-master/GreenDoctor/app/src/main/res/mipmap-hdpi/ic_launcher_round.png  \n",
            "   creating: Plant-Diseases-Detector-master/GreenDoctor/app/src/main/res/mipmap-mdpi/\n",
            " extracting: Plant-Diseases-Detector-master/GreenDoctor/app/src/main/res/mipmap-mdpi/ic_launcher.png  \n",
            "  inflating: Plant-Diseases-Detector-master/GreenDoctor/app/src/main/res/mipmap-mdpi/ic_launcher_foreground.png  \n",
            " extracting: Plant-Diseases-Detector-master/GreenDoctor/app/src/main/res/mipmap-mdpi/ic_launcher_round.png  \n",
            "   creating: Plant-Diseases-Detector-master/GreenDoctor/app/src/main/res/mipmap-xhdpi/\n",
            " extracting: Plant-Diseases-Detector-master/GreenDoctor/app/src/main/res/mipmap-xhdpi/ic_launcher.png  \n",
            "  inflating: Plant-Diseases-Detector-master/GreenDoctor/app/src/main/res/mipmap-xhdpi/ic_launcher_foreground.png  \n",
            " extracting: Plant-Diseases-Detector-master/GreenDoctor/app/src/main/res/mipmap-xhdpi/ic_launcher_round.png  \n",
            "   creating: Plant-Diseases-Detector-master/GreenDoctor/app/src/main/res/mipmap-xxhdpi/\n",
            "  inflating: Plant-Diseases-Detector-master/GreenDoctor/app/src/main/res/mipmap-xxhdpi/ic_launcher.png  \n",
            "  inflating: Plant-Diseases-Detector-master/GreenDoctor/app/src/main/res/mipmap-xxhdpi/ic_launcher_foreground.png  \n",
            " extracting: Plant-Diseases-Detector-master/GreenDoctor/app/src/main/res/mipmap-xxhdpi/ic_launcher_round.png  \n",
            "   creating: Plant-Diseases-Detector-master/GreenDoctor/app/src/main/res/mipmap-xxxhdpi/\n",
            "  inflating: Plant-Diseases-Detector-master/GreenDoctor/app/src/main/res/mipmap-xxxhdpi/ic_launcher.png  \n",
            "  inflating: Plant-Diseases-Detector-master/GreenDoctor/app/src/main/res/mipmap-xxxhdpi/ic_launcher_foreground.png  \n",
            " extracting: Plant-Diseases-Detector-master/GreenDoctor/app/src/main/res/mipmap-xxxhdpi/ic_launcher_round.png  \n",
            "   creating: Plant-Diseases-Detector-master/GreenDoctor/app/src/main/res/values/\n",
            "  inflating: Plant-Diseases-Detector-master/GreenDoctor/app/src/main/res/values/colors.xml  \n",
            "  inflating: Plant-Diseases-Detector-master/GreenDoctor/app/src/main/res/values/ic_launcher_background.xml  \n",
            "  inflating: Plant-Diseases-Detector-master/GreenDoctor/app/src/main/res/values/strings.xml  \n",
            "  inflating: Plant-Diseases-Detector-master/GreenDoctor/app/src/main/res/values/styles.xml  \n",
            "   creating: Plant-Diseases-Detector-master/GreenDoctor/app/src/test/\n",
            "   creating: Plant-Diseases-Detector-master/GreenDoctor/app/src/test/java/\n",
            "   creating: Plant-Diseases-Detector-master/GreenDoctor/app/src/test/java/isomora/\n",
            "   creating: Plant-Diseases-Detector-master/GreenDoctor/app/src/test/java/isomora/com/\n",
            "   creating: Plant-Diseases-Detector-master/GreenDoctor/app/src/test/java/isomora/com/greendoctor/\n",
            "  inflating: Plant-Diseases-Detector-master/GreenDoctor/app/src/test/java/isomora/com/greendoctor/ExampleUnitTest.kt  \n",
            "  inflating: Plant-Diseases-Detector-master/GreenDoctor/build.gradle  \n",
            "  inflating: Plant-Diseases-Detector-master/GreenDoctor/gradle.properties  \n",
            "   creating: Plant-Diseases-Detector-master/GreenDoctor/gradle/\n",
            "   creating: Plant-Diseases-Detector-master/GreenDoctor/gradle/wrapper/\n",
            "  inflating: Plant-Diseases-Detector-master/GreenDoctor/gradle/wrapper/gradle-wrapper.jar  \n",
            "  inflating: Plant-Diseases-Detector-master/GreenDoctor/gradle/wrapper/gradle-wrapper.properties  \n",
            "  inflating: Plant-Diseases-Detector-master/GreenDoctor/gradlew  \n",
            "  inflating: Plant-Diseases-Detector-master/GreenDoctor/gradlew.bat  \n",
            " extracting: Plant-Diseases-Detector-master/GreenDoctor/settings.gradle  \n",
            "  inflating: Plant-Diseases-Detector-master/Plant_Diseases_Detection_with_TF2_V2.ipynb  \n",
            "  inflating: Plant-Diseases-Detector-master/Plant_Diseases_Detection_with_TF2_V4.ipynb  \n",
            "  inflating: Plant-Diseases-Detector-master/README.md  \n",
            "  inflating: Plant-Diseases-Detector-master/_config.yml  \n",
            "   creating: Plant-Diseases-Detector-master/assets/\n",
            "  inflating: Plant-Diseases-Detector-master/assets/PlantVillagefarmer.jpg  \n",
            "  inflating: Plant-Diseases-Detector-master/assets/detect_crop_disease_in_africa.jpg  \n",
            "  inflating: Plant-Diseases-Detector-master/assets/greendoctor.png  \n",
            "  inflating: Plant-Diseases-Detector-master/assets/over.png  \n",
            "  inflating: Plant-Diseases-Detector-master/categories.json  \n"
          ],
          "name": "stdout"
        }
      ]
    },
    {
      "cell_type": "code",
      "metadata": {
        "id": "TXGy7BNrX7yP",
        "colab_type": "code",
        "outputId": "32adf25c-03c1-4ad2-f5d6-9e16111cbccd",
        "colab": {
          "base_uri": "https://localhost:8080/",
          "height": 54
        }
      },
      "source": [
        "print (classes)"
      ],
      "execution_count": 0,
      "outputs": [
        {
          "output_type": "stream",
          "text": [
            "['Apple___Apple_scab', 'Apple___Black_rot', 'Apple___Cedar_apple_rust', 'Apple___healthy', 'Blueberry___healthy', 'Cherry_(including_sour)___Powdery_mildew', 'Cherry_(including_sour)___healthy', 'Corn_(maize)___Cercospora_leaf_spot Gray_leaf_spot', 'Corn_(maize)___Common_rust_', 'Corn_(maize)___Northern_Leaf_Blight', 'Corn_(maize)___healthy', 'Grape___Black_rot', 'Grape___Esca_(Black_Measles)', 'Grape___Leaf_blight_(Isariopsis_Leaf_Spot)', 'Grape___healthy', 'Orange___Haunglongbing_(Citrus_greening)', 'Peach___Bacterial_spot', 'Peach___healthy', 'Pepper,_bell___Bacterial_spot', 'Pepper,_bell___healthy', 'Potato___Early_blight', 'Potato___Late_blight', 'Potato___healthy', 'Raspberry___healthy', 'Soybean___healthy', 'Squash___Powdery_mildew', 'Strawberry___Leaf_scorch', 'Strawberry___healthy', 'Tomato___Bacterial_spot', 'Tomato___Early_blight', 'Tomato___Late_blight', 'Tomato___Leaf_Mold', 'Tomato___Septoria_leaf_spot', 'Tomato___Spider_mites Two-spotted_spider_mite', 'Tomato___Target_Spot', 'Tomato___Tomato_Yellow_Leaf_Curl_Virus', 'Tomato___Tomato_mosaic_virus', 'Tomato___healthy']\n"
          ],
          "name": "stdout"
        }
      ]
    },
    {
      "cell_type": "code",
      "metadata": {
        "id": "nHuMa3GiYEGk",
        "colab_type": "code",
        "cellView": "code",
        "colab": {}
      },
      "source": [
        "module_selection = (\"inception_v3\", 299, 2048) #@param [\"(\\\"mobilenet_v2\\\", 224, 1280)\", \"(\\\"inception_v3\\\", 299, 2048)\"] {type:\"raw\", allow-input: true}\n",
        "handle_base, pixels, FV_SIZE = module_selection\n",
        "MODULE_HANDLE =\"https://tfhub.dev/google/tf2-preview/{}/feature_vector/2\".format(handle_base)\n",
        "IMAGE_SIZE = (pixels, pixels)\n",
        "BATCH_SIZE = 64 #@param {type:\"integer\"}"
      ],
      "execution_count": 0,
      "outputs": []
    },
    {
      "cell_type": "code",
      "metadata": {
        "id": "qiEhxNOBYOWL",
        "colab_type": "code",
        "outputId": "504a29c9-f728-4c21-c321-da4014436d84",
        "colab": {
          "base_uri": "https://localhost:8080/",
          "height": 35
        }
      },
      "source": [
        "module_selection"
      ],
      "execution_count": 0,
      "outputs": [
        {
          "output_type": "execute_result",
          "data": {
            "text/plain": [
              "('inception_v3', 299, 2048)"
            ]
          },
          "metadata": {
            "tags": []
          },
          "execution_count": 23
        }
      ]
    },
    {
      "cell_type": "code",
      "metadata": {
        "id": "ZyzBMFs7YrBj",
        "colab_type": "code",
        "outputId": "6eaef9e6-c77b-4987-ac6f-6ebc249917b4",
        "colab": {
          "base_uri": "https://localhost:8080/",
          "height": 35
        }
      },
      "source": [
        "# Inputs are suitably resized for the selected module.\n",
        "validation_datagen = tf.keras.preprocessing.image.ImageDataGenerator(rescale=1./255)\n",
        "validation_generator = validation_datagen.flow_from_directory(\n",
        "    validation_dir, \n",
        "    shuffle=False, \n",
        "    seed=42,\n",
        "    color_mode=\"rgb\", \n",
        "    class_mode=\"categorical\",\n",
        "    target_size=IMAGE_SIZE,\n",
        "    batch_size=BATCH_SIZE)"
      ],
      "execution_count": 8,
      "outputs": [
        {
          "output_type": "stream",
          "text": [
            "Found 10861 images belonging to 38 classes.\n"
          ],
          "name": "stdout"
        }
      ]
    },
    {
      "cell_type": "code",
      "metadata": {
        "id": "VRJppmoEYzm8",
        "colab_type": "code",
        "cellView": "code",
        "colab": {}
      },
      "source": [
        "do_data_augmentation = True #@param {type:\"boolean\"}\n",
        "if do_data_augmentation:\n",
        "  train_datagen = tf.keras.preprocessing.image.ImageDataGenerator(\n",
        "      rescale = 1./255,\n",
        "      rotation_range=40,\n",
        "      horizontal_flip=True,\n",
        "      width_shift_range=0.2, \n",
        "      height_shift_range=0.2,\n",
        "      shear_range=0.2, \n",
        "      zoom_range=0.2,\n",
        "      fill_mode='nearest' )\n",
        "else:\n",
        "  train_datagen = validation_datagen"
      ],
      "execution_count": 0,
      "outputs": []
    },
    {
      "cell_type": "code",
      "metadata": {
        "id": "GaPqM6-WY9f6",
        "colab_type": "code",
        "outputId": "e024c41a-d887-4e39-d0ef-233cec638350",
        "colab": {
          "base_uri": "https://localhost:8080/",
          "height": 35
        }
      },
      "source": [
        "train_generator = train_datagen.flow_from_directory(\n",
        "    train_dir, \n",
        "    subset=\"training\", \n",
        "    shuffle=True, \n",
        "    seed=42,\n",
        "    color_mode=\"rgb\", \n",
        "    class_mode=\"categorical\",\n",
        "    target_size=IMAGE_SIZE,\n",
        "    batch_size=BATCH_SIZE)"
      ],
      "execution_count": 10,
      "outputs": [
        {
          "output_type": "stream",
          "text": [
            "Found 43444 images belonging to 38 classes.\n"
          ],
          "name": "stdout"
        }
      ]
    },
    {
      "cell_type": "code",
      "metadata": {
        "id": "SLC_7tJ_Y_us",
        "colab_type": "code",
        "colab": {}
      },
      "source": [
        "feature_extractor = hub.KerasLayer(MODULE_HANDLE,\n",
        "                                   input_shape=IMAGE_SIZE+(3,),\n",
        "                                   output_shape=[FV_SIZE])"
      ],
      "execution_count": 0,
      "outputs": []
    },
    {
      "cell_type": "code",
      "metadata": {
        "id": "CUXE6GJAZaww",
        "colab_type": "code",
        "cellView": "code",
        "colab": {}
      },
      "source": [
        "do_fine_tuning = False #@param {type:\"boolean\"}\n",
        "if do_fine_tuning:\n",
        "  feature_extractor.trainable = True\n",
        "  # unfreeze some layers of base network for fine-tuning\n",
        "  for layer in feature_extractor.layers[-30:]:\n",
        "      layer.trainable =True\n",
        "  \n",
        "else:\n",
        "  feature_extractor.trainable = False"
      ],
      "execution_count": 0,
      "outputs": []
    },
    {
      "cell_type": "code",
      "metadata": {
        "id": "yFJuPoIFv32p",
        "colab_type": "code",
        "colab": {
          "base_uri": "https://localhost:8080/",
          "height": 202
        },
        "outputId": "15406f62-fc83-455d-deb2-d2ea997063b8"
      },
      "source": [
        "# This section we need to use Rectified Adam\n",
        "!pip install keras-rectified-adam"
      ],
      "execution_count": 1,
      "outputs": [
        {
          "output_type": "stream",
          "text": [
            "Requirement already satisfied: keras-rectified-adam in /usr/local/lib/python3.6/dist-packages (0.17.0)\n",
            "Requirement already satisfied: numpy in /usr/local/lib/python3.6/dist-packages (from keras-rectified-adam) (1.17.5)\n",
            "Requirement already satisfied: Keras in /usr/local/lib/python3.6/dist-packages (from keras-rectified-adam) (2.2.5)\n",
            "Requirement already satisfied: scipy>=0.14 in /usr/local/lib/python3.6/dist-packages (from Keras->keras-rectified-adam) (1.4.1)\n",
            "Requirement already satisfied: h5py in /usr/local/lib/python3.6/dist-packages (from Keras->keras-rectified-adam) (2.8.0)\n",
            "Requirement already satisfied: keras-applications>=1.0.8 in /usr/local/lib/python3.6/dist-packages (from Keras->keras-rectified-adam) (1.0.8)\n",
            "Requirement already satisfied: pyyaml in /usr/local/lib/python3.6/dist-packages (from Keras->keras-rectified-adam) (3.13)\n",
            "Requirement already satisfied: keras-preprocessing>=1.1.0 in /usr/local/lib/python3.6/dist-packages (from Keras->keras-rectified-adam) (1.1.0)\n",
            "Requirement already satisfied: six>=1.9.0 in /usr/local/lib/python3.6/dist-packages (from Keras->keras-rectified-adam) (1.12.0)\n"
          ],
          "name": "stdout"
        }
      ]
    },
    {
      "cell_type": "code",
      "metadata": {
        "id": "y7emRT2zwHLE",
        "colab_type": "code",
        "colab": {}
      },
      "source": [
        "from keras_radam.training import RAdamOptimizer\n",
        "opt = RAdamOptimizer(total_steps=5000, warmup_proportion=0.1, min_lr=1e-5)"
      ],
      "execution_count": 0,
      "outputs": []
    },
    {
      "cell_type": "code",
      "metadata": {
        "id": "8MiYjuzkZv6U",
        "colab_type": "code",
        "colab": {}
      },
      "source": [
        "model = tf.keras.models.Sequential([\n",
        "    feature_extractor,\n",
        "    tf.keras.layers.Flatten(),\n",
        "    tf.keras.layers.Dense(512, activation='relu'),\n",
        "    tf.keras.layers.Dropout(rate=0.2),\n",
        "    tf.keras.layers.Dense(train_generator.num_classes, activation='softmax',\n",
        "                           kernel_regularizer=tf.keras.regularizers.l2(0.0001))\n",
        "])"
      ],
      "execution_count": 0,
      "outputs": []
    },
    {
      "cell_type": "code",
      "metadata": {
        "id": "3f6GXt6DaDIe",
        "colab_type": "code",
        "colab": {}
      },
      "source": [
        "model.summary()"
      ],
      "execution_count": 0,
      "outputs": []
    },
    {
      "cell_type": "code",
      "metadata": {
        "id": "LA_ahJ2zaOxh",
        "colab_type": "code",
        "cellView": "code",
        "colab": {}
      },
      "source": [
        "#Compile model specifying the optimizer learning rate\n",
        "LEARNING_RATE = 0.001\n",
        "model.compile(\n",
        "    # optimizer=tf.keras.optimizers.Adam(lr=LEARNING_RATE),\n",
        "    optimizer=opt,\n",
        "    loss='categorical_crossentropy',\n",
        "    metrics=['accuracy'])"
      ],
      "execution_count": 0,
      "outputs": []
    },
    {
      "cell_type": "code",
      "metadata": {
        "id": "jJ_JfNWRs75C",
        "colab_type": "code",
        "outputId": "1a88991e-8743-444e-c178-70ec846f4924",
        "colab": {
          "base_uri": "https://localhost:8080/",
          "height": 35
        }
      },
      "source": [
        "!mkdir training\n",
        "!ls"
      ],
      "execution_count": 23,
      "outputs": [
        {
          "output_type": "stream",
          "text": [
            "master.zip  Plant-Diseases-Detector-master  training\n"
          ],
          "name": "stdout"
        }
      ]
    },
    {
      "cell_type": "code",
      "metadata": {
        "id": "ajuL4uKDrKXV",
        "colab_type": "code",
        "outputId": "777f47d2-b0bc-47b2-ac0c-bca01a019a4a",
        "colab": {
          "base_uri": "https://localhost:8080/",
          "height": 54
        }
      },
      "source": [
        "checkpoint_path = \"training/cp-{epoch:04d}.ckpt\"\n",
        "checkpoint_dir = os.path.dirname(checkpoint_path)\n",
        "# Create a callback that saves the model's weights every 5 epochs\n",
        "cp_callback = tf.keras.callbacks.ModelCheckpoint(\n",
        "    filepath=checkpoint_path, \n",
        "    verbose=1, \n",
        "    save_weights_only=True,\n",
        "    period=1)"
      ],
      "execution_count": 24,
      "outputs": [
        {
          "output_type": "stream",
          "text": [
            "WARNING:tensorflow:`period` argument is deprecated. Please use `save_freq` to specify the frequency in number of samples seen.\n"
          ],
          "name": "stdout"
        },
        {
          "output_type": "stream",
          "text": [
            "WARNING:tensorflow:`period` argument is deprecated. Please use `save_freq` to specify the frequency in number of samples seen.\n"
          ],
          "name": "stderr"
        }
      ]
    },
    {
      "cell_type": "code",
      "metadata": {
        "id": "aGqRE2UdDSUT",
        "colab_type": "code",
        "outputId": "af299ade-dca7-47f1-d4c5-161d6caf4edf",
        "colab": {
          "base_uri": "https://localhost:8080/",
          "height": 90
        }
      },
      "source": [
        "print(\"train_generator.samples\", train_generator.samples, \":\", train_generator.batch_size, \"train_generator.batch_size\")\n",
        "print(\"Hasil\", train_generator.samples//train_generator.batch_size)\n",
        "print(\"validation_generator.samples\", validation_generator.samples, \":\", validation_generator.batch_size, \"validation_generator.batch_size\")\n",
        "print(\"Hasil\", validation_generator.samples//validation_generator.batch_size)"
      ],
      "execution_count": 0,
      "outputs": [
        {
          "output_type": "stream",
          "text": [
            "train_generator.samples 43444 : 64 train_generator.batch_size\n",
            "Hasil 678\n",
            "validation_generator.samples 10861 : 64 validation_generator.batch_size\n",
            "Hasil 169\n"
          ],
          "name": "stdout"
        }
      ]
    },
    {
      "cell_type": "code",
      "metadata": {
        "id": "iirleN_iaR27",
        "colab_type": "code",
        "outputId": "304f0c99-7357-42b1-f0bb-6b4ca8987591",
        "cellView": "code",
        "colab": {
          "base_uri": "https://localhost:8080/",
          "height": 1000
        }
      },
      "source": [
        "EPOCHS=10\n",
        "STEPS_EPOCHS = train_generator.samples//train_generator.batch_size\n",
        "VALID_STEPS=validation_generator.samples//validation_generator.batch_size\n",
        "history = model.fit_generator( \n",
        "          train_generator,\n",
        "          steps_per_epoch=STEPS_EPOCHS,\n",
        "          epochs=EPOCHS,\n",
        "          validation_data=validation_generator,\n",
        "          validation_steps=VALID_STEPS)"
      ],
      "execution_count": 25,
      "outputs": [
        {
          "output_type": "stream",
          "text": [
            "WARNING:tensorflow:From <ipython-input-25-ca5ee4a90edd>:9: Model.fit_generator (from tensorflow.python.keras.engine.training) is deprecated and will be removed in a future version.\n",
            "Instructions for updating:\n",
            "Please use Model.fit, which supports generators.\n",
            "WARNING:tensorflow:From <ipython-input-25-ca5ee4a90edd>:9: Model.fit_generator (from tensorflow.python.keras.engine.training) is deprecated and will be removed in a future version.\n",
            "Instructions for updating:\n",
            "Please use Model.fit, which supports generators.\n",
            "WARNING:tensorflow:From <ipython-input-25-ca5ee4a90edd>:9: Model.fit_generator (from tensorflow.python.keras.engine.training) is deprecated and will be removed in a future version.\n",
            "Instructions for updating:\n",
            "Please use Model.fit, which supports generators.\n",
            "WARNING:tensorflow:From <ipython-input-25-ca5ee4a90edd>:9: Model.fit_generator (from tensorflow.python.keras.engine.training) is deprecated and will be removed in a future version.\n",
            "Instructions for updating:\n",
            "Please use Model.fit, which supports generators.\n",
            "WARNING:tensorflow:From <ipython-input-25-ca5ee4a90edd>:9: Model.fit_generator (from tensorflow.python.keras.engine.training) is deprecated and will be removed in a future version.\n",
            "Instructions for updating:\n",
            "Please use Model.fit, which supports generators.\n",
            "WARNING:tensorflow:From <ipython-input-25-ca5ee4a90edd>:9: Model.fit_generator (from tensorflow.python.keras.engine.training) is deprecated and will be removed in a future version.\n",
            "Instructions for updating:\n",
            "Please use Model.fit, which supports generators.\n"
          ],
          "name": "stdout"
        },
        {
          "output_type": "stream",
          "text": [
            "WARNING:tensorflow:From <ipython-input-25-ca5ee4a90edd>:9: Model.fit_generator (from tensorflow.python.keras.engine.training) is deprecated and will be removed in a future version.\n",
            "Instructions for updating:\n",
            "Please use Model.fit, which supports generators.\n",
            "WARNING:tensorflow:From <ipython-input-25-ca5ee4a90edd>:9: Model.fit_generator (from tensorflow.python.keras.engine.training) is deprecated and will be removed in a future version.\n",
            "Instructions for updating:\n",
            "Please use Model.fit, which supports generators.\n",
            "WARNING:tensorflow:From <ipython-input-25-ca5ee4a90edd>:9: Model.fit_generator (from tensorflow.python.keras.engine.training) is deprecated and will be removed in a future version.\n",
            "Instructions for updating:\n",
            "Please use Model.fit, which supports generators.\n",
            "WARNING:tensorflow:From <ipython-input-25-ca5ee4a90edd>:9: Model.fit_generator (from tensorflow.python.keras.engine.training) is deprecated and will be removed in a future version.\n",
            "Instructions for updating:\n",
            "Please use Model.fit, which supports generators.\n",
            "WARNING:tensorflow:From <ipython-input-25-ca5ee4a90edd>:9: Model.fit_generator (from tensorflow.python.keras.engine.training) is deprecated and will be removed in a future version.\n",
            "Instructions for updating:\n",
            "Please use Model.fit, which supports generators.\n",
            "WARNING:tensorflow:From <ipython-input-25-ca5ee4a90edd>:9: Model.fit_generator (from tensorflow.python.keras.engine.training) is deprecated and will be removed in a future version.\n",
            "Instructions for updating:\n",
            "Please use Model.fit, which supports generators.\n"
          ],
          "name": "stderr"
        },
        {
          "output_type": "stream",
          "text": [
            "WARNING:tensorflow:sample_weight modes were coerced from\n",
            "  ...\n",
            "    to  \n",
            "  ['...']\n",
            "WARNING:tensorflow:sample_weight modes were coerced from\n",
            "  ...\n",
            "    to  \n",
            "  ['...']\n",
            "WARNING:tensorflow:sample_weight modes were coerced from\n",
            "  ...\n",
            "    to  \n",
            "  ['...']\n",
            "WARNING:tensorflow:sample_weight modes were coerced from\n",
            "  ...\n",
            "    to  \n",
            "  ['...']\n",
            "WARNING:tensorflow:sample_weight modes were coerced from\n",
            "  ...\n",
            "    to  \n",
            "  ['...']\n",
            "WARNING:tensorflow:sample_weight modes were coerced from\n",
            "  ...\n",
            "    to  \n",
            "  ['...']\n"
          ],
          "name": "stdout"
        },
        {
          "output_type": "stream",
          "text": [
            "WARNING:tensorflow:sample_weight modes were coerced from\n",
            "  ...\n",
            "    to  \n",
            "  ['...']\n",
            "WARNING:tensorflow:sample_weight modes were coerced from\n",
            "  ...\n",
            "    to  \n",
            "  ['...']\n",
            "WARNING:tensorflow:sample_weight modes were coerced from\n",
            "  ...\n",
            "    to  \n",
            "  ['...']\n",
            "WARNING:tensorflow:sample_weight modes were coerced from\n",
            "  ...\n",
            "    to  \n",
            "  ['...']\n",
            "WARNING:tensorflow:sample_weight modes were coerced from\n",
            "  ...\n",
            "    to  \n",
            "  ['...']\n",
            "WARNING:tensorflow:sample_weight modes were coerced from\n",
            "  ...\n",
            "    to  \n",
            "  ['...']\n"
          ],
          "name": "stderr"
        },
        {
          "output_type": "stream",
          "text": [
            "WARNING:tensorflow:sample_weight modes were coerced from\n",
            "  ...\n",
            "    to  \n",
            "  ['...']\n",
            "WARNING:tensorflow:sample_weight modes were coerced from\n",
            "  ...\n",
            "    to  \n",
            "  ['...']\n",
            "WARNING:tensorflow:sample_weight modes were coerced from\n",
            "  ...\n",
            "    to  \n",
            "  ['...']\n",
            "WARNING:tensorflow:sample_weight modes were coerced from\n",
            "  ...\n",
            "    to  \n",
            "  ['...']\n",
            "WARNING:tensorflow:sample_weight modes were coerced from\n",
            "  ...\n",
            "    to  \n",
            "  ['...']\n",
            "WARNING:tensorflow:sample_weight modes were coerced from\n",
            "  ...\n",
            "    to  \n",
            "  ['...']\n"
          ],
          "name": "stdout"
        },
        {
          "output_type": "stream",
          "text": [
            "WARNING:tensorflow:sample_weight modes were coerced from\n",
            "  ...\n",
            "    to  \n",
            "  ['...']\n",
            "WARNING:tensorflow:sample_weight modes were coerced from\n",
            "  ...\n",
            "    to  \n",
            "  ['...']\n",
            "WARNING:tensorflow:sample_weight modes were coerced from\n",
            "  ...\n",
            "    to  \n",
            "  ['...']\n",
            "WARNING:tensorflow:sample_weight modes were coerced from\n",
            "  ...\n",
            "    to  \n",
            "  ['...']\n",
            "WARNING:tensorflow:sample_weight modes were coerced from\n",
            "  ...\n",
            "    to  \n",
            "  ['...']\n",
            "WARNING:tensorflow:sample_weight modes were coerced from\n",
            "  ...\n",
            "    to  \n",
            "  ['...']\n"
          ],
          "name": "stderr"
        },
        {
          "output_type": "stream",
          "text": [
            "Train for 678 steps, validate for 169 steps\n",
            "Epoch 1/10\n",
            "Train for 678 steps, validate for 169 steps\n",
            "Epoch 1/10\n",
            "Train for 678 steps, validate for 169 steps\n",
            "Epoch 1/10\n",
            "Train for 678 steps, validate for 169 steps\n",
            "Epoch 1/10\n",
            "Train for 678 steps, validate for 169 steps\n",
            "Epoch 1/10\n",
            "Train for 678 steps, validate for 169 steps\n",
            "Epoch 1/10\n",
            "678/678 [==============================] - 884s 1s/step - loss: 1.5702 - accuracy: 0.5956 - val_loss: 0.5620 - val_accuracy: 0.8266\n",
            "678/678 [==============================] - 884s 1s/step - loss: 1.5702 - accuracy: 0.5956 - val_loss: 0.5620 - val_accuracy: 0.8266\n",
            "678/678 [==============================] - 884s 1s/step - loss: 1.5702 - accuracy: 0.5956 - val_loss: 0.5620 - val_accuracy: 0.8266\n",
            "678/678 [==============================] - 884s 1s/step - loss: 1.5702 - accuracy: 0.5956 - val_loss: 0.5620 - val_accuracy: 0.8266\n",
            "678/678 [==============================] - 884s 1s/step - loss: 1.5702 - accuracy: 0.5956 - val_loss: 0.5620 - val_accuracy: 0.8266\n",
            "678/678 [==============================] - 884s 1s/step - loss: 1.5702 - accuracy: 0.5956 - val_loss: 0.5620 - val_accuracy: 0.8266\n",
            "Epoch 2/10\n",
            "Epoch 2/10\n",
            "Epoch 2/10\n",
            "Epoch 2/10\n",
            "Epoch 2/10\n",
            "Epoch 2/10\n",
            "678/678 [==============================] - 857s 1s/step - loss: 0.4580 - accuracy: 0.8566 - val_loss: 0.3989 - val_accuracy: 0.8738\n",
            "678/678 [==============================] - 857s 1s/step - loss: 0.4580 - accuracy: 0.8566 - val_loss: 0.3989 - val_accuracy: 0.8738\n",
            "678/678 [==============================] - 857s 1s/step - loss: 0.4580 - accuracy: 0.8566 - val_loss: 0.3989 - val_accuracy: 0.8738\n",
            "678/678 [==============================] - 857s 1s/step - loss: 0.4580 - accuracy: 0.8566 - val_loss: 0.3989 - val_accuracy: 0.8738\n",
            "678/678 [==============================] - 857s 1s/step - loss: 0.4580 - accuracy: 0.8566 - val_loss: 0.3989 - val_accuracy: 0.8738\n",
            "678/678 [==============================] - 857s 1s/step - loss: 0.4580 - accuracy: 0.8566 - val_loss: 0.3989 - val_accuracy: 0.8738\n",
            "Epoch 3/10\n",
            "Epoch 3/10\n",
            "Epoch 3/10\n",
            "Epoch 3/10\n",
            "Epoch 3/10\n",
            "Epoch 3/10\n",
            "678/678 [==============================] - 857s 1s/step - loss: 0.3491 - accuracy: 0.8889 - val_loss: 0.3247 - val_accuracy: 0.8977\n",
            "678/678 [==============================] - 857s 1s/step - loss: 0.3491 - accuracy: 0.8889 - val_loss: 0.3247 - val_accuracy: 0.8977\n",
            "678/678 [==============================] - 857s 1s/step - loss: 0.3491 - accuracy: 0.8889 - val_loss: 0.3247 - val_accuracy: 0.8977\n",
            "678/678 [==============================] - 857s 1s/step - loss: 0.3491 - accuracy: 0.8889 - val_loss: 0.3247 - val_accuracy: 0.8977\n",
            "678/678 [==============================] - 857s 1s/step - loss: 0.3491 - accuracy: 0.8889 - val_loss: 0.3247 - val_accuracy: 0.8977\n",
            "678/678 [==============================] - 857s 1s/step - loss: 0.3491 - accuracy: 0.8889 - val_loss: 0.3247 - val_accuracy: 0.8977\n",
            "Epoch 4/10\n",
            "Epoch 4/10\n",
            "Epoch 4/10\n",
            "Epoch 4/10\n",
            "Epoch 4/10\n",
            "Epoch 4/10\n",
            "678/678 [==============================] - 859s 1s/step - loss: 0.3005 - accuracy: 0.9028 - val_loss: 0.2620 - val_accuracy: 0.9129\n",
            "678/678 [==============================] - 859s 1s/step - loss: 0.3005 - accuracy: 0.9028 - val_loss: 0.2620 - val_accuracy: 0.9129\n",
            "678/678 [==============================] - 859s 1s/step - loss: 0.3005 - accuracy: 0.9028 - val_loss: 0.2620 - val_accuracy: 0.9129\n",
            "678/678 [==============================] - 859s 1s/step - loss: 0.3005 - accuracy: 0.9028 - val_loss: 0.2620 - val_accuracy: 0.9129\n",
            "678/678 [==============================] - 859s 1s/step - loss: 0.3005 - accuracy: 0.9028 - val_loss: 0.2620 - val_accuracy: 0.9129\n",
            "678/678 [==============================] - 859s 1s/step - loss: 0.3005 - accuracy: 0.9028 - val_loss: 0.2620 - val_accuracy: 0.9129\n",
            "Epoch 5/10\n",
            "Epoch 5/10\n",
            "Epoch 5/10\n",
            "Epoch 5/10\n",
            "Epoch 5/10\n",
            "Epoch 5/10\n",
            "678/678 [==============================] - 855s 1s/step - loss: 0.2591 - accuracy: 0.9162 - val_loss: 0.2327 - val_accuracy: 0.9254\n",
            "678/678 [==============================] - 855s 1s/step - loss: 0.2591 - accuracy: 0.9162 - val_loss: 0.2327 - val_accuracy: 0.9254\n",
            "678/678 [==============================] - 855s 1s/step - loss: 0.2591 - accuracy: 0.9162 - val_loss: 0.2327 - val_accuracy: 0.9254\n",
            "678/678 [==============================] - 855s 1s/step - loss: 0.2591 - accuracy: 0.9162 - val_loss: 0.2327 - val_accuracy: 0.9254\n",
            "678/678 [==============================] - 855s 1s/step - loss: 0.2591 - accuracy: 0.9162 - val_loss: 0.2327 - val_accuracy: 0.9254\n",
            "678/678 [==============================] - 855s 1s/step - loss: 0.2591 - accuracy: 0.9162 - val_loss: 0.2327 - val_accuracy: 0.9254\n",
            "Epoch 6/10\n",
            "Epoch 6/10\n",
            "Epoch 6/10\n",
            "Epoch 6/10\n",
            "Epoch 6/10\n",
            "Epoch 6/10\n",
            "678/678 [==============================] - 855s 1s/step - loss: 0.2305 - accuracy: 0.9254 - val_loss: 0.2258 - val_accuracy: 0.9280\n",
            "678/678 [==============================] - 855s 1s/step - loss: 0.2305 - accuracy: 0.9254 - val_loss: 0.2258 - val_accuracy: 0.9280\n",
            "678/678 [==============================] - 855s 1s/step - loss: 0.2305 - accuracy: 0.9254 - val_loss: 0.2258 - val_accuracy: 0.9280\n",
            "678/678 [==============================] - 855s 1s/step - loss: 0.2305 - accuracy: 0.9254 - val_loss: 0.2258 - val_accuracy: 0.9280\n",
            "678/678 [==============================] - 855s 1s/step - loss: 0.2305 - accuracy: 0.9254 - val_loss: 0.2258 - val_accuracy: 0.9280\n",
            "678/678 [==============================] - 855s 1s/step - loss: 0.2305 - accuracy: 0.9254 - val_loss: 0.2258 - val_accuracy: 0.9280\n",
            "Epoch 7/10\n",
            "Epoch 7/10\n",
            "Epoch 7/10\n",
            "Epoch 7/10\n",
            "Epoch 7/10\n",
            "Epoch 7/10\n",
            "474/678 [===================>..........] - ETA: 4:07 - loss: 0.2054 - accuracy: 0.9344WARNING:tensorflow:From <ipython-input-25-ca5ee4a90edd>:9: Model.fit_generator (from tensorflow.python.keras.engine.training) is deprecated and will be removed in a future version.\n",
            "Instructions for updating:\n",
            "Please use Model.fit, which supports generators.\n"
          ],
          "name": "stdout"
        },
        {
          "output_type": "stream",
          "text": [
            "WARNING:tensorflow:From <ipython-input-25-ca5ee4a90edd>:9: Model.fit_generator (from tensorflow.python.keras.engine.training) is deprecated and will be removed in a future version.\n",
            "Instructions for updating:\n",
            "Please use Model.fit, which supports generators.\n"
          ],
          "name": "stderr"
        },
        {
          "output_type": "stream",
          "text": [
            "WARNING:tensorflow:sample_weight modes were coerced from\n",
            "  ...\n",
            "    to  \n",
            "  ['...']\n"
          ],
          "name": "stdout"
        },
        {
          "output_type": "stream",
          "text": [
            "WARNING:tensorflow:sample_weight modes were coerced from\n",
            "  ...\n",
            "    to  \n",
            "  ['...']\n"
          ],
          "name": "stderr"
        },
        {
          "output_type": "stream",
          "text": [
            "WARNING:tensorflow:sample_weight modes were coerced from\n",
            "  ...\n",
            "    to  \n",
            "  ['...']\n"
          ],
          "name": "stdout"
        },
        {
          "output_type": "stream",
          "text": [
            "WARNING:tensorflow:sample_weight modes were coerced from\n",
            "  ...\n",
            "    to  \n",
            "  ['...']\n"
          ],
          "name": "stderr"
        },
        {
          "output_type": "stream",
          "text": [
            "Train for 678 steps, validate for 169 steps\n",
            "Epoch 1/10\n",
            "678/678 [==============================] - 884s 1s/step - loss: 1.5702 - accuracy: 0.5956 - val_loss: 0.5620 - val_accuracy: 0.8266\n",
            "Epoch 2/10\n",
            "678/678 [==============================] - 857s 1s/step - loss: 0.4580 - accuracy: 0.8566 - val_loss: 0.3989 - val_accuracy: 0.8738\n",
            "Epoch 3/10\n",
            "678/678 [==============================] - 857s 1s/step - loss: 0.3491 - accuracy: 0.8889 - val_loss: 0.3247 - val_accuracy: 0.8977\n",
            "Epoch 4/10\n",
            "678/678 [==============================] - 859s 1s/step - loss: 0.3005 - accuracy: 0.9028 - val_loss: 0.2620 - val_accuracy: 0.9129\n",
            "Epoch 5/10\n",
            "678/678 [==============================] - 855s 1s/step - loss: 0.2591 - accuracy: 0.9162 - val_loss: 0.2327 - val_accuracy: 0.9254\n",
            "Epoch 6/10\n",
            "678/678 [==============================] - 855s 1s/step - loss: 0.2305 - accuracy: 0.9254 - val_loss: 0.2258 - val_accuracy: 0.9280\n",
            "Epoch 7/10\n",
            "678/678 [==============================] - 867s 1s/step - loss: 0.2022 - accuracy: 0.9360 - val_loss: 0.1919 - val_accuracy: 0.9405\n",
            "678/678 [==============================] - 867s 1s/step - loss: 0.2022 - accuracy: 0.9360 - val_loss: 0.1919 - val_accuracy: 0.9405\n",
            "678/678 [==============================] - 867s 1s/step - loss: 0.2022 - accuracy: 0.9360 - val_loss: 0.1919 - val_accuracy: 0.9405\n",
            "678/678 [==============================] - 867s 1s/step - loss: 0.2022 - accuracy: 0.9360 - val_loss: 0.1919 - val_accuracy: 0.9405\n",
            "678/678 [==============================] - 867s 1s/step - loss: 0.2022 - accuracy: 0.9360 - val_loss: 0.1919 - val_accuracy: 0.9405\n",
            "678/678 [==============================] - 867s 1s/step - loss: 0.2022 - accuracy: 0.9360 - val_loss: 0.1919 - val_accuracy: 0.9405\n",
            "678/678 [==============================] - 867s 1s/step - loss: 0.2022 - accuracy: 0.9360 - val_loss: 0.1919 - val_accuracy: 0.9405\n",
            "Epoch 8/10\n",
            "Epoch 8/10\n",
            "Epoch 8/10\n",
            "Epoch 8/10\n",
            "Epoch 8/10\n",
            "Epoch 8/10\n",
            "Epoch 8/10\n",
            "678/678 [==============================] - 870s 1s/step - loss: 0.1772 - accuracy: 0.9453 - val_loss: 0.1892 - val_accuracy: 0.9402\n",
            "678/678 [==============================] - 870s 1s/step - loss: 0.1772 - accuracy: 0.9453 - val_loss: 0.1892 - val_accuracy: 0.9402\n",
            "678/678 [==============================] - 870s 1s/step - loss: 0.1772 - accuracy: 0.9453 - val_loss: 0.1892 - val_accuracy: 0.9402\n",
            "678/678 [==============================] - 870s 1s/step - loss: 0.1772 - accuracy: 0.9453 - val_loss: 0.1892 - val_accuracy: 0.9402\n",
            "678/678 [==============================] - 870s 1s/step - loss: 0.1772 - accuracy: 0.9453 - val_loss: 0.1892 - val_accuracy: 0.9402\n",
            "678/678 [==============================] - 870s 1s/step - loss: 0.1772 - accuracy: 0.9453 - val_loss: 0.1892 - val_accuracy: 0.9402\n",
            "678/678 [==============================] - 870s 1s/step - loss: 0.1772 - accuracy: 0.9453 - val_loss: 0.1892 - val_accuracy: 0.9402\n",
            "Epoch 9/10\n",
            "Epoch 9/10\n",
            "Epoch 9/10\n",
            "Epoch 9/10\n",
            "Epoch 9/10\n",
            "Epoch 9/10\n",
            "Epoch 9/10\n",
            "678/678 [==============================] - 869s 1s/step - loss: 0.1748 - accuracy: 0.9458 - val_loss: 0.1888 - val_accuracy: 0.9395\n",
            "678/678 [==============================] - 869s 1s/step - loss: 0.1748 - accuracy: 0.9458 - val_loss: 0.1888 - val_accuracy: 0.9395\n",
            "678/678 [==============================] - 869s 1s/step - loss: 0.1748 - accuracy: 0.9458 - val_loss: 0.1888 - val_accuracy: 0.9395\n",
            "678/678 [==============================] - 869s 1s/step - loss: 0.1748 - accuracy: 0.9458 - val_loss: 0.1888 - val_accuracy: 0.9395\n",
            "678/678 [==============================] - 869s 1s/step - loss: 0.1748 - accuracy: 0.9458 - val_loss: 0.1888 - val_accuracy: 0.9395\n",
            "678/678 [==============================] - 869s 1s/step - loss: 0.1748 - accuracy: 0.9458 - val_loss: 0.1888 - val_accuracy: 0.9395\n",
            "678/678 [==============================] - 869s 1s/step - loss: 0.1748 - accuracy: 0.9458 - val_loss: 0.1888 - val_accuracy: 0.9395\n",
            "Epoch 10/10\n",
            "Epoch 10/10\n",
            "Epoch 10/10\n",
            "Epoch 10/10\n",
            "Epoch 10/10\n",
            "Epoch 10/10\n",
            "Epoch 10/10\n",
            "678/678 [==============================] - 872s 1s/step - loss: 0.1764 - accuracy: 0.9446 - val_loss: 0.1899 - val_accuracy: 0.9406\n",
            "678/678 [==============================] - 872s 1s/step - loss: 0.1764 - accuracy: 0.9446 - val_loss: 0.1899 - val_accuracy: 0.9406\n",
            "678/678 [==============================] - 872s 1s/step - loss: 0.1764 - accuracy: 0.9446 - val_loss: 0.1899 - val_accuracy: 0.9406\n",
            "678/678 [==============================] - 872s 1s/step - loss: 0.1764 - accuracy: 0.9446 - val_loss: 0.1899 - val_accuracy: 0.9406\n",
            "678/678 [==============================] - 872s 1s/step - loss: 0.1764 - accuracy: 0.9446 - val_loss: 0.1899 - val_accuracy: 0.9406\n",
            "678/678 [==============================] - 872s 1s/step - loss: 0.1764 - accuracy: 0.9446 - val_loss: 0.1899 - val_accuracy: 0.9406\n",
            "678/678 [==============================] - 872s 1s/step - loss: 0.1764 - accuracy: 0.9446 - val_loss: 0.1899 - val_accuracy: 0.9406\n"
          ],
          "name": "stdout"
        }
      ]
    },
    {
      "cell_type": "code",
      "metadata": {
        "id": "nS7tuU-9aj-X",
        "colab_type": "code",
        "outputId": "7a02576a-57f4-4045-fd5b-b81d2565d7f9",
        "colab": {
          "base_uri": "https://localhost:8080/",
          "height": 513
        }
      },
      "source": [
        "import matplotlib.pylab as plt\n",
        "import numpy as np\n",
        "acc = history.history['accuracy']\n",
        "val_acc = history.history['val_accuracy']\n",
        "loss = history.history['loss']\n",
        "val_loss = history.history['val_loss']\n",
        "epochs_range = range(EPOCHS)\n",
        "plt.figure(figsize=(8, 8))\n",
        "plt.subplot(1, 2, 1)\n",
        "plt.plot(epochs_range, acc, label='Training Accuracy')\n",
        "plt.plot(epochs_range, val_acc, label='Validation Accuracy')\n",
        "plt.legend(loc='lower right')\n",
        "plt.title('Training and Validation Accuracy')\n",
        "plt.ylabel(\"Accuracy (training and validation)\")\n",
        "plt.xlabel(\"Training Steps\")\n",
        "plt.subplot(1, 2, 2)\n",
        "plt.plot(epochs_range, loss, label='Training Loss')\n",
        "plt.plot(epochs_range, val_loss, label='Validation Loss')\n",
        "plt.legend(loc='upper right')\n",
        "plt.title('Training and Validation Loss')\n",
        "plt.ylabel(\"Loss (training and validation)\")\n",
        "plt.xlabel(\"Training Steps\")\n",
        "plt.show()"
      ],
      "execution_count": 0,
      "outputs": [
        {
          "output_type": "display_data",
          "data": {
            "image/png": "[encoded data removed]",
            "text/plain": [
              "<Figure size 576x576 with 2 Axes>"
            ]
          },
          "metadata": {
            "tags": []
          }
        }
      ]
    },
    {
      "cell_type": "code",
      "metadata": {
        "id": "7JsJrE14WUmb",
        "colab_type": "code",
        "colab": {}
      },
      "source": [
        "# Import OpenCV\n",
        "import cv2\n",
        "# Utility\n",
        "import itertools\n",
        "import random\n",
        "import numpy as np\n",
        "import matplotlib.pylab as plt\n",
        "from collections import Counter\n",
        "from glob import iglob\n",
        "def load_image(filename):\n",
        "    img = cv2.imread(os.path.join(data_dir, validation_dir, filename))\n",
        "    img = cv2.resize(img, (IMAGE_SIZE[0], IMAGE_SIZE[1]) )\n",
        "    img = img /255\n",
        "    \n",
        "    return img\n",
        "def predict(image):\n",
        "    probabilities = new_model.predict(np.asarray([img]))[0]\n",
        "    class_idx = np.argmax(probabilities)\n",
        "    \n",
        "    return {classes[class_idx]: probabilities[class_idx]}\n",
        "for idx, filename in enumerate(random.sample(validation_generator.filenames, 5)):\n",
        "    print(\"SOURCE: class: %s, file: %s\" % (os.path.split(filename)[0], filename))\n",
        "    \n",
        "    img = load_image(filename)\n",
        "    prediction = predict(img)\n",
        "    print(\"PREDICTED: class: %s, confidence: %f\" % (list(prediction.keys())[0], list(prediction.values())[0]))\n",
        "    plt.imshow(img)\n",
        "    plt.figure(idx)    \n",
        "    plt.show()"
      ],
      "execution_count": 0,
      "outputs": []
    },
    {
      "cell_type": "markdown",
      "metadata": {
        "id": "3vR4o0lGd_Pu",
        "colab_type": "text"
      },
      "source": [
        "### Inference"
      ]
    },
    {
      "cell_type": "code",
      "metadata": {
        "id": "CA7xpH7ieBMp",
        "colab_type": "code",
        "colab": {}
      },
      "source": [
        "# Import OpenCV\n",
        "import cv2\n",
        "\n",
        "# Utility\n",
        "import itertools\n",
        "import random\n",
        "from collections import Counter\n",
        "from glob import iglob\n",
        "import numpy as np\n",
        "import sys\n",
        "\n",
        "\n",
        "def load_image(filename):\n",
        "    img = cv2.imread(os.path.join(data_dir, validation_dir, filename))\n",
        "    print(filename, \":\", img)\n",
        "    img = cv2.resize(img, (IMAGE_SHAPE[0], IMAGE_SHAPE[1]) )\n",
        "    print(\"resized:\", img)\n",
        "    img = img /255\n",
        "    print(\"Normalized\",img)\n",
        "    \n",
        "    return img\n",
        "\n",
        "\n",
        "def predict(image):\n",
        "    probabilities = model.predict(np.asarray([img]))[0]\n",
        "    print(\"After Softmax\", probabilities)\n",
        "    class_idx = np.argmax(probabilities)\n",
        "    \n",
        "    return {classes[class_idx]: probabilities[class_idx]}"
      ],
      "execution_count": 0,
      "outputs": []
    },
    {
      "cell_type": "code",
      "metadata": {
        "id": "fDKxoUL5v1By",
        "colab_type": "code",
        "outputId": "4cd877d0-e374-4512-dd20-52b6cccbc777",
        "colab": {
          "base_uri": "https://localhost:8080/",
          "height": 74
        }
      },
      "source": [
        "if any(\"c0c3498a-4b3c-49b0-b44f-2b3f0d7a6ebb___RS_HL 2372.JPG\" in s for s in validation_generator.filenames):\n",
        "  print(True)\n",
        "matching = [s for s in validation_generator.filepaths if \"c0c3498a-4b3c-49b0-b44f-2b3f0d7a6ebb___RS_HL 2372.JPG\" in s]\n",
        "print(matching)"
      ],
      "execution_count": 0,
      "outputs": [
        {
          "output_type": "stream",
          "text": [
            "True\n",
            "['/root/.keras/datasets/PlantVillage/validation/Blueberry___healthy/c0c3498a-4b3c-49b0-b44f-2b3f0d7a6ebb___RS_HL 2372.JPG']\n"
          ],
          "name": "stdout"
        }
      ]
    },
    {
      "cell_type": "code",
      "metadata": {
        "id": "9KQvF6Shw2aL",
        "colab_type": "code",
        "colab": {}
      },
      "source": [
        "np.set_printoptions(threshold=sys.maxsize)"
      ],
      "execution_count": 0,
      "outputs": []
    },
    {
      "cell_type": "code",
      "metadata": {
        "id": "jLy7b0oGxTMy",
        "colab_type": "code",
        "colab": {}
      },
      "source": [
        "img = cv2.imread('/root/.keras/datasets/PlantVillage/validation/Blueberry___healthy/c0c3498a-4b3c-49b0-b44f-2b3f0d7a6ebb___RS_HL 2372.JPG')\n",
        "# print(img)"
      ],
      "execution_count": 0,
      "outputs": []
    },
    {
      "cell_type": "code",
      "metadata": {
        "id": "GhcRl50JxYTM",
        "colab_type": "code",
        "colab": {}
      },
      "source": [
        "img = cv2.resize(img, (IMAGE_SHAPE[0], IMAGE_SHAPE[1]) )\n",
        "img"
      ],
      "execution_count": 0,
      "outputs": []
    },
    {
      "cell_type": "code",
      "metadata": {
        "id": "8UREH9ti2GmH",
        "colab_type": "code",
        "colab": {}
      },
      "source": [
        "img = img / 255\n",
        "img"
      ],
      "execution_count": 0,
      "outputs": []
    },
    {
      "cell_type": "code",
      "metadata": {
        "id": "PIG78Zix5G9j",
        "colab_type": "code",
        "outputId": "798d222b-941a-4a8c-83c0-5fc20e340fbc",
        "colab": {
          "base_uri": "https://localhost:8080/",
          "height": 201
        }
      },
      "source": [
        "new_model.predict(np.asarray([img]))[0]"
      ],
      "execution_count": 0,
      "outputs": [
        {
          "output_type": "execute_result",
          "data": {
            "text/plain": [
              "array([4.6510851e-07, 2.2118666e-08, 7.2860371e-09, 2.5625669e-03,\n",
              "       9.9740797e-01, 4.0713604e-07, 6.0860458e-07, 1.8846893e-11,\n",
              "       2.4848626e-12, 3.5132546e-11, 2.0301982e-09, 1.5751841e-09,\n",
              "       6.1362911e-12, 2.5331942e-13, 2.5936744e-12, 4.9445212e-08,\n",
              "       1.1052828e-09, 1.2400291e-10, 1.1722995e-10, 2.8861045e-09,\n",
              "       2.2245803e-12, 4.9718119e-07, 4.3223460e-07, 5.1047064e-09,\n",
              "       2.2830574e-05, 5.6818165e-11, 4.2907910e-11, 1.7561041e-07,\n",
              "       7.1636391e-10, 6.8038450e-09, 2.9787718e-06, 2.9060745e-08,\n",
              "       2.4517002e-09, 4.8934942e-07, 3.7937795e-08, 7.4077233e-09,\n",
              "       2.7334131e-11, 4.8361602e-07], dtype=float32)"
            ]
          },
          "metadata": {
            "tags": []
          },
          "execution_count": 39
        }
      ]
    },
    {
      "cell_type": "code",
      "metadata": {
        "id": "D5M9abqk58ug",
        "colab_type": "code",
        "colab": {}
      },
      "source": [
        "class_idx = np.argmax(new_model.predict(np.asarray([img]))[0])"
      ],
      "execution_count": 0,
      "outputs": []
    },
    {
      "cell_type": "code",
      "metadata": {
        "id": "QBlDKXqZ6Km4",
        "colab_type": "code",
        "outputId": "86c64552-1aef-4d22-bbbe-de1f6f1eb821",
        "colab": {
          "base_uri": "https://localhost:8080/",
          "height": 35
        }
      },
      "source": [
        "class_idx"
      ],
      "execution_count": 0,
      "outputs": [
        {
          "output_type": "execute_result",
          "data": {
            "text/plain": [
              "4"
            ]
          },
          "metadata": {
            "tags": []
          },
          "execution_count": 42
        }
      ]
    },
    {
      "cell_type": "code",
      "metadata": {
        "id": "NktZbnzReCZS",
        "colab_type": "code",
        "colab": {}
      },
      "source": [
        "IMAGE_SHAPE = (299, 299)\n",
        "for idx, filename in enumerate(random.sample(validation_generator.filenames, 5)):\n",
        "    print(\"SOURCE: class: %s, file: %s\" % (os.path.split(filename)[0], filename))\n",
        "    \n",
        "    img = load_image(filename)\n",
        "    prediction = predict(img)\n",
        "    print(\"PREDICTED: class: %s, confidence: %f\" % (list(prediction.keys())[0], list(prediction.values())[0]))\n",
        "    plt.imshow(img)\n",
        "    plt.figure(idx)    \n",
        "    plt.show()"
      ],
      "execution_count": 0,
      "outputs": []
    },
    {
      "cell_type": "code",
      "metadata": {
        "id": "KJOIEcVJu16M",
        "colab_type": "code",
        "outputId": "c73de930-7808-4ca5-ad9a-b8d1aac0e53a",
        "colab": {
          "base_uri": "https://localhost:8080/",
          "height": 35
        }
      },
      "source": [
        "cv2.__version__"
      ],
      "execution_count": 0,
      "outputs": [
        {
          "output_type": "execute_result",
          "data": {
            "text/plain": [
              "'4.1.2'"
            ]
          },
          "metadata": {
            "tags": []
          },
          "execution_count": 20
        }
      ]
    },
    {
      "cell_type": "code",
      "metadata": {
        "id": "k4KJMWl8e0s4",
        "colab_type": "code",
        "colab": {}
      },
      "source": [
        "import time\n",
        "t = time.time()\n",
        "\n",
        "export_path = \"/tmp/saved_models/{}\".format(int(t))\n",
        "tf.keras.experimental.export_saved_model(new_model, export_path)\n",
        "\n",
        "export_path"
      ],
      "execution_count": 0,
      "outputs": []
    },
    {
      "cell_type": "code",
      "metadata": {
        "id": "NCl2tm9fkoBr",
        "colab_type": "code",
        "colab": {}
      },
      "source": [
        "reloaded = tf.keras.experimental.load_from_saved_model(\"checkpoint\")"
      ],
      "execution_count": 0,
      "outputs": []
    },
    {
      "cell_type": "code",
      "metadata": {
        "id": "cZ0uDvrtiiJ8",
        "colab_type": "code",
        "colab": {}
      },
      "source": [
        "new_model = tf.keras.models.load_model(\"checkpoint\")"
      ],
      "execution_count": 0,
      "outputs": []
    },
    {
      "cell_type": "code",
      "metadata": {
        "id": "uCA5-4SOkvHB",
        "colab_type": "code",
        "colab": {}
      },
      "source": [
        "new_model.predict()"
      ],
      "execution_count": 0,
      "outputs": []
    },
    {
      "cell_type": "code",
      "metadata": {
        "id": "0PvwFA3KWh5A",
        "colab_type": "code",
        "colab": {}
      },
      "source": [
        "# convert the model to TFLite\n",
        "!mkdir \"tflite_models\"\n",
        "TFLITE_MODEL = \"tflite_models/plant_disease_model.tflite\""
      ],
      "execution_count": 0,
      "outputs": []
    },
    {
      "cell_type": "code",
      "metadata": {
        "id": "pqGu2_oeXUvw",
        "colab_type": "code",
        "colab": {}
      },
      "source": [
        "# Get the concrete function from the Keras model.\n",
        "run_model = tf.function(lambda x : new_model(x))"
      ],
      "execution_count": 0,
      "outputs": []
    },
    {
      "cell_type": "code",
      "metadata": {
        "id": "8YQVFzLKXXYL",
        "colab_type": "code",
        "colab": {}
      },
      "source": [
        "# Save the concrete function.\n",
        "concrete_func = run_model.get_concrete_function(\n",
        "    tf.TensorSpec(new_model.inputs[0].shape, new_model.inputs[0].dtype)\n",
        ")"
      ],
      "execution_count": 0,
      "outputs": []
    },
    {
      "cell_type": "code",
      "metadata": {
        "id": "s6WPisgxXdkk",
        "colab_type": "code",
        "colab": {}
      },
      "source": [
        "# Convert the model to standard TensorFlow Lite model\n",
        "converter = tf.lite.TFLiteConverter.from_concrete_functions([concrete_func])\n",
        "converted_tflite_model = converter.convert()\n",
        "open(TFLITE_MODEL, \"wb\").write(converted_tflite_model)"
      ],
      "execution_count": 0,
      "outputs": []
    },
    {
      "cell_type": "code",
      "metadata": {
        "id": "-IdhAgCZcY_l",
        "colab_type": "code",
        "colab": {}
      },
      "source": [
        "tf.__version__"
      ],
      "execution_count": 0,
      "outputs": []
    },
    {
      "cell_type": "code",
      "metadata": {
        "id": "RI-zqe9dcRXA",
        "colab_type": "code",
        "colab": {}
      },
      "source": [
        "!mkdir training_1_15\n",
        "!ls"
      ],
      "execution_count": 0,
      "outputs": []
    },
    {
      "cell_type": "code",
      "metadata": {
        "id": "ge3gkk3lY4WB",
        "colab_type": "code",
        "colab": {}
      },
      "source": [
        "import datetime\n",
        "filename = \"test_{}.hdf5\".format(datetime.datetime.now().strftime(\"%Y_%m_%d_%H_%M_%S\"))\n",
        "model.save(\"training_1_15\", save_format='tf')"
      ],
      "execution_count": 0,
      "outputs": []
    },
    {
      "cell_type": "code",
      "metadata": {
        "id": "vSGuJn9HbOvt",
        "colab_type": "code",
        "colab": {}
      },
      "source": [
        ""
      ],
      "execution_count": 0,
      "outputs": []
    }
  ]
}